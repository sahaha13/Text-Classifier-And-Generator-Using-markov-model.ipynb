{
  "cells": [
    {
      "cell_type": "markdown",
      "metadata": {
        "id": "l_iUAx6oWNqI"
      },
      "source": [
        "## A text classifier based on a Markov Model to classify poems writted by prolificpoets, Robert Frost and Edgar Allan Poe"
      ]
    },
    {
      "cell_type": "code",
      "execution_count": 1,
      "metadata": {
        "colab": {
          "base_uri": "https://localhost:8080/"
        },
        "id": "8RLg89UXWgfj",
        "outputId": "08aef455-6203-4517-93d2-bb692473171f"
      },
      "outputs": [
        {
          "name": "stdout",
          "output_type": "stream",
          "text": [
            "--2022-05-13 08:25:12--  https://raw.githubusercontent.com/lazyprogrammer/machine_learning_examples/master/hmm_class/edgar_allan_poe.txt\n",
            "Resolving raw.githubusercontent.com (raw.githubusercontent.com)... 185.199.108.133, 185.199.110.133, 185.199.109.133, ...\n",
            "Connecting to raw.githubusercontent.com (raw.githubusercontent.com)|185.199.108.133|:443... connected.\n",
            "HTTP request sent, awaiting response... 200 OK\n",
            "Length: 26622 (26K) [text/plain]\n",
            "Saving to: ‘edgar_allan_poe.txt’\n",
            "\n",
            "\redgar_allan_poe.txt   0%[                    ]       0  --.-KB/s               \redgar_allan_poe.txt 100%[===================>]  26.00K  --.-KB/s    in 0.001s  \n",
            "\n",
            "2022-05-13 08:25:12 (17.5 MB/s) - ‘edgar_allan_poe.txt’ saved [26622/26622]\n",
            "\n",
            "--2022-05-13 08:25:12--  https://raw.githubusercontent.com/lazyprogrammer/machine_learning_examples/master/hmm_class/robert_frost.txt\n",
            "Resolving raw.githubusercontent.com (raw.githubusercontent.com)... 185.199.108.133, 185.199.109.133, 185.199.110.133, ...\n",
            "Connecting to raw.githubusercontent.com (raw.githubusercontent.com)|185.199.108.133|:443... connected.\n",
            "HTTP request sent, awaiting response... 200 OK\n",
            "Length: 56286 (55K) [text/plain]\n",
            "Saving to: ‘robert_frost.txt’\n",
            "\n",
            "robert_frost.txt    100%[===================>]  54.97K  --.-KB/s    in 0.01s   \n",
            "\n",
            "2022-05-13 08:25:12 (5.11 MB/s) - ‘robert_frost.txt’ saved [56286/56286]\n",
            "\n"
          ]
        }
      ],
      "source": [
        "!wget -nc https://raw.githubusercontent.com/lazyprogrammer/machine_learning_examples/master/hmm_class/edgar_allan_poe.txt\n",
        "!wget -nc https://raw.githubusercontent.com/lazyprogrammer/machine_learning_examples/master/hmm_class/robert_frost.txt"
      ]
    },
    {
      "cell_type": "code",
      "execution_count": 21,
      "metadata": {
        "id": "GHu2RVvuW626"
      },
      "outputs": [],
      "source": [
        "import numpy as np\n",
        "import matplotlib.pyplot as plt\n",
        "import string\n",
        "from sklearn.model_selection import train_test_split"
      ]
    },
    {
      "cell_type": "code",
      "execution_count": 3,
      "metadata": {
        "id": "btiCeFeYpop3"
      },
      "outputs": [],
      "source": [
        "input_files = [\n",
        "  'edgar_allan_poe.txt',\n",
        "  'robert_frost.txt',\n",
        "]"
      ]
    },
    {
      "cell_type": "code",
      "execution_count": 4,
      "metadata": {
        "colab": {
          "base_uri": "https://localhost:8080/"
        },
        "id": "D6aMSGSbp3oP",
        "outputId": "66e130ae-e38a-445a-faa0-493412fa45f2"
      },
      "outputs": [
        {
          "name": "stdout",
          "output_type": "stream",
          "text": [
            "LO! Death hath rear'd himself a throne\n",
            "In a strange city, all alone,\n",
            "Far down within the dim west\n",
            "Where the good, and the bad, and the worst, and the best,\n",
            "Have gone to their eternal rest.\n",
            " \n",
            "There shrines, and palaces, and towers\n",
            "Are not like any thing of ours\n",
            "Oh no! O no! ours never loom\n",
            "To heaven with that ungodly gloom!\n"
          ]
        }
      ],
      "source": [
        "!head edgar_allan_poe.txt"
      ]
    },
    {
      "cell_type": "code",
      "execution_count": 5,
      "metadata": {
        "colab": {
          "base_uri": "https://localhost:8080/"
        },
        "id": "a4ZAQAWAp63y",
        "outputId": "db6dd9a1-65d4-4e9d-f8d6-63f2f34616ac"
      },
      "outputs": [
        {
          "name": "stdout",
          "output_type": "stream",
          "text": [
            "Two roads diverged in a yellow wood,\n",
            "And sorry I could not travel both\n",
            "And be one traveler, long I stood\n",
            "And looked down one as far as I could\n",
            "To where it bent in the undergrowth; \n",
            "\n",
            "Then took the other, as just as fair,\n",
            "And having perhaps the better claim\n",
            "Because it was grassy and wanted wear,\n",
            "Though as for that the passing there\n"
          ]
        }
      ],
      "source": [
        "!head robert_frost.txt"
      ]
    },
    {
      "cell_type": "markdown",
      "metadata": {
        "id": "QDTUE-bmwGfE"
      },
      "source": [
        "## Cleaning text data by removing white spaces, capitalizations and punctuations"
      ]
    },
    {
      "cell_type": "code",
      "execution_count": 6,
      "metadata": {
        "colab": {
          "base_uri": "https://localhost:8080/"
        },
        "id": "1iCkY24QqQaR",
        "outputId": "7a4bd953-1d77-41e4-ed39-8a38fd5da8fa"
      },
      "outputs": [
        {
          "name": "stdout",
          "output_type": "stream",
          "text": [
            "edgar_allan_poe.txt corresponds to the label 0\n",
            "robert_frost.txt corresponds to the label 1\n"
          ]
        }
      ],
      "source": [
        "# Collecting the data into lists\n",
        "input_texts = [] # Empty list to hold the imput texts, i.e the poems\n",
        "labels = [] # List to hold the labels, i.e the index value of the authors\n",
        "\n",
        "for label, f in enumerate(input_files):\n",
        "  print(f\"{f} corresponds to the label {label}\")\n",
        "\n",
        "  for line in open(f):\n",
        "    line = line.rstrip().lower() # removing the EOL space and turning all letters into lowercase\n",
        "    line = line.translate(str.maketrans('', '', string.punctuation)) # Removing puncuation\n",
        "\n",
        "    input_texts.append(line)\n",
        "    labels.append(label)"
      ]
    },
    {
      "cell_type": "code",
      "execution_count": 7,
      "metadata": {
        "id": "pWP3Gue7rjIZ"
      },
      "outputs": [],
      "source": [
        "# Splitting data into training and test sets\n",
        "train_text, test_text, y_train, y_test= train_test_split(input_texts, labels)"
      ]
    },
    {
      "cell_type": "code",
      "execution_count": 8,
      "metadata": {
        "colab": {
          "base_uri": "https://localhost:8080/"
        },
        "id": "Dc7_oOwmru68",
        "outputId": "a0192155-3f31-4d3d-b43b-dead94e7fd77"
      },
      "outputs": [
        {
          "data": {
            "text/plain": [
              "(1783, 595)"
            ]
          },
          "execution_count": 8,
          "metadata": {},
          "output_type": "execute_result"
        }
      ],
      "source": [
        "len(y_train), len(y_test)"
      ]
    },
    {
      "cell_type": "code",
      "execution_count": 9,
      "metadata": {
        "colab": {
          "base_uri": "https://localhost:8080/"
        },
        "id": "C6d-42s_rzTO",
        "outputId": "67c7044c-32b5-4ad7-eb59-0719e7561c8b"
      },
      "outputs": [
        {
          "data": {
            "text/plain": [
              "['in front of one town hall id left him hitched',\n",
              " 'hed like to take me there and show it to me',\n",
              " 'arose with a duplicate horn ',\n",
              " 'it',\n",
              " 'on something theres no harm see there he is']"
            ]
          },
          "execution_count": 9,
          "metadata": {},
          "output_type": "execute_result"
        }
      ],
      "source": [
        "train_text[:5]"
      ]
    },
    {
      "cell_type": "code",
      "execution_count": 10,
      "metadata": {
        "colab": {
          "base_uri": "https://localhost:8080/"
        },
        "id": "hxc7yW-sr4_D",
        "outputId": "22ccf127-3f16-4c18-e6fb-231e71dea4da"
      },
      "outputs": [
        {
          "data": {
            "text/plain": [
              "[1, 1, 0, 1, 1]"
            ]
          },
          "execution_count": 10,
          "metadata": {},
          "output_type": "execute_result"
        }
      ],
      "source": [
        "y_train[:5]"
      ]
    },
    {
      "cell_type": "markdown",
      "metadata": {
        "id": "pwnEtMObwNmt"
      },
      "source": [
        "## Creating a matrix with corresponding integer indices for every word in the training and test sets"
      ]
    },
    {
      "cell_type": "code",
      "execution_count": 12,
      "metadata": {
        "id": "EoG-djgXr8J6"
      },
      "outputs": [],
      "source": [
        "idx = 1 # Setting the first index of matrix to 1 \n",
        "word2idx = {'<unk>' : 0} # Setting unknown words in test set to zero"
      ]
    },
    {
      "cell_type": "code",
      "execution_count": 14,
      "metadata": {
        "id": "9WwFKcYLsGiM"
      },
      "outputs": [],
      "source": [
        "# Populating the matrix word2idx by converting words to their respective indices\n",
        "for text in train_text:\n",
        "  tokens = text.split() # tokenizing words\n",
        "  for token in tokens:\n",
        "    if token not in word2idx:\n",
        "      word2idx[token] = idx\n",
        "      idx+= 1"
      ]
    },
    {
      "cell_type": "code",
      "execution_count": 15,
      "metadata": {
        "colab": {
          "base_uri": "https://localhost:8080/"
        },
        "id": "WxPVth1VhwwS",
        "outputId": "32cd62c5-05fc-41a9-f175-83f0739b131d"
      },
      "outputs": [
        {
          "data": {
            "text/plain": [
              "{'<unk>': 0,\n",
              " 'in': 1,\n",
              " 'front': 2,\n",
              " 'of': 3,\n",
              " 'one': 4,\n",
              " 'town': 5,\n",
              " 'hall': 6,\n",
              " 'id': 7,\n",
              " 'left': 8,\n",
              " 'him': 9,\n",
              " 'hitched': 10,\n",
              " 'hed': 11,\n",
              " 'like': 12,\n",
              " 'to': 13,\n",
              " 'take': 14,\n",
              " 'me': 15,\n",
              " 'there': 16,\n",
              " 'and': 17,\n",
              " 'show': 18,\n",
              " 'it': 19,\n",
              " 'arose': 20,\n",
              " 'with': 21,\n",
              " 'a': 22,\n",
              " 'duplicate': 23,\n",
              " 'horn': 24,\n",
              " 'on': 25,\n",
              " 'something': 26,\n",
              " 'theres': 27,\n",
              " 'no': 28,\n",
              " 'harm': 29,\n",
              " 'see': 30,\n",
              " 'he': 31,\n",
              " 'is': 32,\n",
              " 'the': 33,\n",
              " 'fingerpieces': 34,\n",
              " 'slid': 35,\n",
              " 'all': 36,\n",
              " 'directions': 37,\n",
              " 'were': 38,\n",
              " 'not': 39,\n",
              " 'their': 40,\n",
              " 'own': 41,\n",
              " 'wings': 42,\n",
              " 'until': 43,\n",
              " 'they': 44,\n",
              " 'trailed': 45,\n",
              " 'dust': 46,\n",
              " 'past': 47,\n",
              " 'get': 48,\n",
              " 'some': 49,\n",
              " 'strangeness': 50,\n",
              " 'out': 51,\n",
              " 'wantonest': 52,\n",
              " 'singing': 53,\n",
              " 'birds': 54,\n",
              " 'ultimate': 55,\n",
              " 'climes': 56,\n",
              " 'pole': 57,\n",
              " 'hole': 58,\n",
              " 'somewhere': 59,\n",
              " 'his': 60,\n",
              " 'heel': 61,\n",
              " 'up': 62,\n",
              " 'thrones': 63,\n",
              " 'longforgotten': 64,\n",
              " 'bowers': 65,\n",
              " 'bells': 66,\n",
              " 'ah': 67,\n",
              " 'i': 68,\n",
              " 'went': 69,\n",
              " 'sleep': 70,\n",
              " 'before': 71,\n",
              " 'bed': 72,\n",
              " 'lifts': 73,\n",
              " 'gaunt': 74,\n",
              " 'luxuriating': 75,\n",
              " 'beast': 76,\n",
              " 'wonder': 77,\n",
              " 'what': 78,\n",
              " 'those': 79,\n",
              " 'signals': 80,\n",
              " 'are': 81,\n",
              " 'except': 82,\n",
              " 'always': 83,\n",
              " 'johnjoe': 84,\n",
              " 'country': 85,\n",
              " 'where': 86,\n",
              " 'two': 87,\n",
              " 'village': 88,\n",
              " 'cultures': 89,\n",
              " 'faded': 90,\n",
              " 'thought': 91,\n",
              " 'my': 92,\n",
              " 'attempting': 93,\n",
              " 'such': 94,\n",
              " 'stray': 95,\n",
              " 'can': 96,\n",
              " 'stretch': 97,\n",
              " 'hold': 98,\n",
              " 'highest': 99,\n",
              " 'feat': 100,\n",
              " 'tamed': 101,\n",
              " 'this': 102,\n",
              " 'primeval': 103,\n",
              " 'wood': 104,\n",
              " 'bad': 105,\n",
              " 'married': 106,\n",
              " 'when': 107,\n",
              " 'she': 108,\n",
              " 'had': 109,\n",
              " 'chance': 110,\n",
              " 'so': 111,\n",
              " 'but': 112,\n",
              " 'find': 113,\n",
              " 'at': 114,\n",
              " 'softmurmured': 115,\n",
              " 'words': 116,\n",
              " 'that': 117,\n",
              " 'fulfilled': 118,\n",
              " 'you': 119,\n",
              " 'never': 120,\n",
              " 'saw': 121,\n",
              " 'room': 122,\n",
              " 'wishing': 123,\n",
              " 'night': 124,\n",
              " 'for': 125,\n",
              " 'god': 126,\n",
              " 'man': 127,\n",
              " 'or': 128,\n",
              " 'beasts': 129,\n",
              " 'sake': 130,\n",
              " 'son': 131,\n",
              " 'headboard': 132,\n",
              " 'mothers': 133,\n",
              " 'pushed': 134,\n",
              " 'we': 135,\n",
              " 'just': 136,\n",
              " 'infant': 137,\n",
              " 'astride': 138,\n",
              " 'fell': 139,\n",
              " 'upturnd': 140,\n",
              " 'faces': 141,\n",
              " 'these': 142,\n",
              " 'roses': 143,\n",
              " 'over': 144,\n",
              " 'much': 145,\n",
              " 'bay': 146,\n",
              " 'tottering': 147,\n",
              " 'above': 148,\n",
              " 'let': 149,\n",
              " 'people': 150,\n",
              " 'than': 151,\n",
              " 'keep': 152,\n",
              " 'them': 153,\n",
              " 'since': 154,\n",
              " 'was': 155,\n",
              " 'other': 156,\n",
              " 'way': 157,\n",
              " 'look': 158,\n",
              " 'said': 159,\n",
              " 'warmer': 160,\n",
              " 'dian': 161,\n",
              " 'mad': 162,\n",
              " 'pride': 163,\n",
              " 'intellectuality': 164,\n",
              " 'hes': 165,\n",
              " 'celebrating': 166,\n",
              " 'strange': 167,\n",
              " 'realms': 168,\n",
              " 'boreal': 169,\n",
              " 'dont': 170,\n",
              " 'make': 171,\n",
              " 'im': 172,\n",
              " 'too': 173,\n",
              " 'warm': 174,\n",
              " 'know': 175,\n",
              " 'whose': 176,\n",
              " 'heartstrings': 177,\n",
              " 'lute': 178,\n",
              " 'enough': 179,\n",
              " 'fulllength': 180,\n",
              " 'chimney': 181,\n",
              " 'couldnt': 182,\n",
              " 'call': 183,\n",
              " 'living': 184,\n",
              " 'aint': 185,\n",
              " 'be': 186,\n",
              " 'sure': 187,\n",
              " 'will': 188,\n",
              " 'lead': 189,\n",
              " 'us': 190,\n",
              " 'aright': 191,\n",
              " 'doth': 192,\n",
              " 'oer': 193,\n",
              " 'pass': 194,\n",
              " 'as': 195,\n",
              " 'th': 196,\n",
              " 'expanding': 197,\n",
              " 'eye': 198,\n",
              " 'attic': 199,\n",
              " 'mother': 200,\n",
              " 'say': 201,\n",
              " 'does': 202,\n",
              " 'more': 203,\n",
              " 'because': 204,\n",
              " 'likes': 205,\n",
              " 'fine': 206,\n",
              " 'fibrils': 207,\n",
              " 'its': 208,\n",
              " 'life': 209,\n",
              " 'bird': 210,\n",
              " 'alight': 211,\n",
              " 'if': 212,\n",
              " 'wanted': 213,\n",
              " 'strapping': 214,\n",
              " 'girl': 215,\n",
              " 'twenty': 216,\n",
              " 'then': 217,\n",
              " 'mighty': 218,\n",
              " 'old': 219,\n",
              " 'have': 220,\n",
              " 'home': 221,\n",
              " 'has': 222,\n",
              " 'seen': 223,\n",
              " 'tears': 224,\n",
              " 'dry': 225,\n",
              " 'tis': 226,\n",
              " 'plain': 227,\n",
              " 'light': 228,\n",
              " 'day': 229,\n",
              " 'double': 230,\n",
              " 'must': 231,\n",
              " 'mind': 232,\n",
              " 'certain': 233,\n",
              " 'coolness': 234,\n",
              " 'from': 235,\n",
              " 'didnt': 236,\n",
              " 'moon': 237,\n",
              " 'waiting': 238,\n",
              " 'her': 239,\n",
              " 'chill': 240,\n",
              " 'effect': 241,\n",
              " 'each': 242,\n",
              " 'hour': 243,\n",
              " 'only': 244,\n",
              " 'bid': 245,\n",
              " 'spoke': 246,\n",
              " 'lettered': 247,\n",
              " 'loved': 248,\n",
              " 'object': 249,\n",
              " 'tear': 250,\n",
              " 'lid': 251,\n",
              " 'giddy': 252,\n",
              " 'stars': 253,\n",
              " 'legends': 254,\n",
              " 'tell': 255,\n",
              " 'pipes': 256,\n",
              " 'smoking': 257,\n",
              " 'jug': 258,\n",
              " 'lift': 259,\n",
              " 'themselves': 260,\n",
              " 'off': 261,\n",
              " 'ground': 262,\n",
              " 'good': 263,\n",
              " 'worst': 264,\n",
              " 'best': 265,\n",
              " 'hard': 266,\n",
              " 'by': 267,\n",
              " 'dim': 268,\n",
              " 'lake': 269,\n",
              " 'auber': 270,\n",
              " 'hourly': 271,\n",
              " 'hope': 272,\n",
              " 'being': 273,\n",
              " 'watched': 274,\n",
              " 'forty': 275,\n",
              " 'cellar': 276,\n",
              " 'holes': 277,\n",
              " 'rights': 278,\n",
              " 'right': 279,\n",
              " 'temptation': 280,\n",
              " 'do': 281,\n",
              " 'sovereignty': 282,\n",
              " 'ancient': 283,\n",
              " 'lore': 284,\n",
              " 'alas': 285,\n",
              " 'magical': 286,\n",
              " 'sad': 287,\n",
              " 'sound': 288,\n",
              " 'feared': 289,\n",
              " 'cold': 290,\n",
              " 'world': 291,\n",
              " 'end': 292,\n",
              " 'fire': 293,\n",
              " 'flying': 294,\n",
              " 'silent': 295,\n",
              " 'flight': 296,\n",
              " 'behind': 297,\n",
              " 'door': 298,\n",
              " 'your': 299,\n",
              " 'gems': 300,\n",
              " 'turn': 301,\n",
              " 'around': 302,\n",
              " 'under': 303,\n",
              " 'belilaced': 304,\n",
              " 'however': 305,\n",
              " 'natural': 306,\n",
              " 'give': 307,\n",
              " 'books': 308,\n",
              " 'isnt': 309,\n",
              " 'folks': 310,\n",
              " 'arent': 311,\n",
              " 'afraid': 312,\n",
              " 'wont': 313,\n",
              " 'harpstring': 314,\n",
              " 'broken': 315,\n",
              " 'skies': 316,\n",
              " 'angel': 317,\n",
              " 'trod': 318,\n",
              " 'between': 319,\n",
              " 'north': 320,\n",
              " 'pole—': 321,\n",
              " 'small': 322,\n",
              " 'skiff': 323,\n",
              " 'after': 324,\n",
              " 'why': 325,\n",
              " 'should': 326,\n",
              " 'johns': 327,\n",
              " 'been': 328,\n",
              " 'fair': 329,\n",
              " 'gone': 330,\n",
              " 'far': 331,\n",
              " 'youve': 332,\n",
              " 'heard': 333,\n",
              " 'estelles': 334,\n",
              " 'run': 335,\n",
              " 'ask': 336,\n",
              " 'mistake': 337,\n",
              " 'joined': 338,\n",
              " 'excited': 339,\n",
              " 'fun': 340,\n",
              " 'nova': 341,\n",
              " 'cant': 342,\n",
              " 'track': 343,\n",
              " 'peoples': 344,\n",
              " 'daughters': 345,\n",
              " 'furthest': 346,\n",
              " 'bodies': 347,\n",
              " 'wild': 348,\n",
              " 'hearthistories': 349,\n",
              " 'seemed': 350,\n",
              " 'enwritten': 351,\n",
              " 'here': 352,\n",
              " 'position': 353,\n",
              " 'close': 354,\n",
              " 'elfin': 355,\n",
              " 'green': 356,\n",
              " 'grass': 357,\n",
              " '‘tis': 358,\n",
              " 'vault': 359,\n",
              " 'thy': 360,\n",
              " 'lost': 361,\n",
              " 'ulalume': 362,\n",
              " 'matter': 363,\n",
              " 'how': 364,\n",
              " 'many': 365,\n",
              " 'times': 366,\n",
              " 'arthur': 367,\n",
              " 'amy': 368,\n",
              " 'father': 369,\n",
              " 'mine': 370,\n",
              " 'least': 371,\n",
              " 'ive': 372,\n",
              " 'brought': 373,\n",
              " 'famous': 374,\n",
              " 'bottle': 375,\n",
              " 'groan': 376,\n",
              " 'roll': 377,\n",
              " 'down': 378,\n",
              " 'mount': 379,\n",
              " 'yaanek': 380,\n",
              " 'memory': 381,\n",
              " 'accursed': 382,\n",
              " 'often': 383,\n",
              " 'forget': 384,\n",
              " 'time': 385,\n",
              " 'lone': 386,\n",
              " 'bones': 387,\n",
              " 'try': 388,\n",
              " 'help': 389,\n",
              " 'beadwork': 390,\n",
              " 'about': 391,\n",
              " 'henry': 392,\n",
              " 'hudsons': 393,\n",
              " 'young': 394,\n",
              " 'folk': 395,\n",
              " 'held': 396,\n",
              " 'misty': 397,\n",
              " 'mid': 398,\n",
              " 'region': 399,\n",
              " 'weir': 400,\n",
              " 'toffile': 401,\n",
              " 'upstairs': 402,\n",
              " 'bedroom': 403,\n",
              " 'an': 404,\n",
              " 'byroad': 405,\n",
              " 'dropped': 406,\n",
              " 'everything': 407,\n",
              " 'child': 408,\n",
              " 'worlds': 409,\n",
              " 'shall': 410,\n",
              " 'given': 411,\n",
              " 'polish': 412,\n",
              " 'crust': 413,\n",
              " 'dawn': 414,\n",
              " 'upon': 415,\n",
              " 'desolate': 416,\n",
              " 'john': 417,\n",
              " 'himself': 418,\n",
              " 'imagine': 419,\n",
              " 'who': 420,\n",
              " 'plowed': 421,\n",
              " 'digger': 422,\n",
              " 'till': 423,\n",
              " 'cottages': 424,\n",
              " 'found': 425,\n",
              " 'worth': 426,\n",
              " 'mortgage': 427,\n",
              " 'sight': 428,\n",
              " 'thee': 429,\n",
              " 'thine': 430,\n",
              " 'once': 431,\n",
              " 'awake': 432,\n",
              " 'thatd': 433,\n",
              " 'set': 434,\n",
              " 'mean': 435,\n",
              " 'shes': 436,\n",
              " 'someone': 437,\n",
              " 'else': 438,\n",
              " 'hoed': 439,\n",
              " 'little': 440,\n",
              " 'yesterday': 441,\n",
              " 'lantern': 442,\n",
              " 'drop': 443,\n",
              " 'lane': 444,\n",
              " 'yet': 445,\n",
              " 'might': 446,\n",
              " 'stop': 447,\n",
              " 'without': 448,\n",
              " 'farmhouse': 449,\n",
              " 'near': 450,\n",
              " 'nation': 451,\n",
              " 'still': 452,\n",
              " 'unfettered': 453,\n",
              " 'early': 454,\n",
              " 'mormons': 455,\n",
              " 'made': 456,\n",
              " 'settlement': 457,\n",
              " 'stroked': 458,\n",
              " 'hornyhanded': 459,\n",
              " 'kindness': 460,\n",
              " 'spirit': 461,\n",
              " 'communing': 462,\n",
              " 'angels': 463,\n",
              " 'our': 464,\n",
              " 'thoughts': 465,\n",
              " 'palsied': 466,\n",
              " 'sere': 467,\n",
              " 'rolls': 468,\n",
              " 'through': 469,\n",
              " 'ether': 470,\n",
              " 'sighs': 471,\n",
              " 'cypress': 472,\n",
              " 'roamed': 473,\n",
              " 'soul': 474,\n",
              " 'paradise': 475,\n",
              " 'love': 476,\n",
              " 'years': 477,\n",
              " 'half': 478,\n",
              " 'looking': 479,\n",
              " 'orchid': 480,\n",
              " 'calypso': 481,\n",
              " 'face': 482,\n",
              " 'youth': 483,\n",
              " 'known': 484,\n",
              " 'whom': 485,\n",
              " 'earth': 486,\n",
              " 'dear': 487,\n",
              " 'name': 488,\n",
              " 'text': 489,\n",
              " 'though': 490,\n",
              " 'bidden': 491,\n",
              " 'doubling': 492,\n",
              " 'redoubling': 493,\n",
              " 'song': 494,\n",
              " 'twitter': 495,\n",
              " 'south': 496,\n",
              " 'across': 497,\n",
              " 'blue': 498,\n",
              " 'hell': 499,\n",
              " 'sort': 500,\n",
              " 'swear': 501,\n",
              " 'away': 502,\n",
              " 'awful': 503,\n",
              " 'sounds': 504,\n",
              " 'rattling': 505,\n",
              " 'shutter': 506,\n",
              " 'ever': 507,\n",
              " 'live': 508,\n",
              " 'again': 509,\n",
              " 'think': 510,\n",
              " 'grave': 511,\n",
              " 'lizard': 512,\n",
              " 'every': 513,\n",
              " 'ray': 514,\n",
              " 'could': 515,\n",
              " 'street': 516,\n",
              " 'verdant': 517,\n",
              " 'slopes': 518,\n",
              " 'destination': 519,\n",
              " 'destinys': 520,\n",
              " 'particular': 521,\n",
              " 'oclock': 522,\n",
              " 'springs': 523,\n",
              " 'neer': 524,\n",
              " 'did': 525,\n",
              " 'flow': 526,\n",
              " 'crooking': 527,\n",
              " 'trillium': 528,\n",
              " 'lavas': 529,\n",
              " 'restlessly': 530,\n",
              " 'richer': 531,\n",
              " 'wilder': 532,\n",
              " 'diviner': 533,\n",
              " 'visions': 534,\n",
              " 'wind': 535,\n",
              " 'dared': 536,\n",
              " 'stir': 537,\n",
              " 'unless': 538,\n",
              " 'tiptoe': 539,\n",
              " 'most': 540,\n",
              " 'immemorial': 541,\n",
              " 'year': 542,\n",
              " 'stately': 543,\n",
              " 'palace': 544,\n",
              " 'house': 545,\n",
              " 'stripped': 546,\n",
              " 'mustnt': 547,\n",
              " 'bear': 548,\n",
              " 'new': 549,\n",
              " 'comers': 550,\n",
              " 'welcomed': 551,\n",
              " 'lave': 552,\n",
              " 'shoes': 553,\n",
              " 'wants': 554,\n",
              " 'hens': 555,\n",
              " 'stark': 556,\n",
              " 'better': 557,\n",
              " 'defeat': 558,\n",
              " 'almost': 559,\n",
              " 'darkly': 560,\n",
              " 'present': 561,\n",
              " 'stay': 562,\n",
              " 'sometimes': 563,\n",
              " 'silently': 564,\n",
              " 'serene': 565,\n",
              " 'sea': 566,\n",
              " 'come': 567,\n",
              " 'back': 568,\n",
              " 'worse': 569,\n",
              " 'yield': 570,\n",
              " 'greatness': 571,\n",
              " 'stint': 572,\n",
              " 'consent': 573,\n",
              " 'sign': 574,\n",
              " 'throve': 575,\n",
              " 'fold': 576,\n",
              " 'against': 577,\n",
              " 'nailed': 578,\n",
              " 'bring': 579,\n",
              " 'broadboard': 580,\n",
              " 'paneling': 581,\n",
              " 'within': 582,\n",
              " 'wildest': 583,\n",
              " 'headless': 584,\n",
              " 'horse': 585,\n",
              " 'started': 586,\n",
              " 'stove': 587,\n",
              " 'office': 588,\n",
              " 'illumine': 589,\n",
              " 'enkindle': 590,\n",
              " 'beyond': 591,\n",
              " 'utterance': 592,\n",
              " 'human': 593,\n",
              " 'tongue': 594,\n",
              " 'worn': 595,\n",
              " 'really': 596,\n",
              " 'same': 597,\n",
              " 'bless': 598,\n",
              " 'grandsir': 599,\n",
              " 'granny': 600,\n",
              " 'haunt': 601,\n",
              " 'side': 602,\n",
              " 'panther': 603,\n",
              " 'mountain': 604,\n",
              " 'barn': 605,\n",
              " 'smells': 606,\n",
              " 'wash': 607,\n",
              " 'ploughed': 608,\n",
              " 'beloved': 609,\n",
              " 'amid': 610,\n",
              " 'earnest': 611,\n",
              " 'woes': 612,\n",
              " 'leaves': 613,\n",
              " 'crisped': 614,\n",
              " 'expense': 615,\n",
              " 'reach': 616,\n",
              " 'dark': 617,\n",
              " 'treat': 618,\n",
              " 'guide': 619,\n",
              " 'due': 620,\n",
              " 'respect': 621,\n",
              " 'storm': 622,\n",
              " 'foreign': 623,\n",
              " 'soft': 624,\n",
              " 'dissyllables': 625,\n",
              " 'ear': 626,\n",
              " 'pianos': 627,\n",
              " 'vigor': 628,\n",
              " 'go': 629,\n",
              " 'houri': 630,\n",
              " 'glances': 631,\n",
              " 'rivers': 632,\n",
              " 'glide': 633,\n",
              " 'further': 634,\n",
              " 'unearthly': 635,\n",
              " 'height': 636,\n",
              " 'want': 637,\n",
              " 'truth': 638,\n",
              " 'speak': 639,\n",
              " 'voices': 640,\n",
              " 'spring': 641,\n",
              " 'source': 642,\n",
              " 'pearly': 643,\n",
              " 'lustre': 644,\n",
              " 'cannot': 645,\n",
              " 'brook': 646,\n",
              " 'going': 647,\n",
              " 'below': 648,\n",
              " 'yard': 649,\n",
              " 'sudden': 650,\n",
              " 'movement': 651,\n",
              " 'toward': 652,\n",
              " 'bodice': 653,\n",
              " 'hate': 654,\n",
              " 'mow': 655,\n",
              " 'blandishments': 656,\n",
              " 'would': 657,\n",
              " 'seem': 658,\n",
              " 'defied': 659,\n",
              " 'wanderers': 660,\n",
              " 'happy': 661,\n",
              " 'valley': 662,\n",
              " 'lady': 663,\n",
              " 'alone': 664,\n",
              " 'long': 665,\n",
              " 'ago': 666,\n",
              " 'writer': 667,\n",
              " 'lines': 668,\n",
              " 'alias': 669,\n",
              " 'sleeping': 670,\n",
              " 'well': 671,\n",
              " 'now': 672,\n",
              " 'dank': 673,\n",
              " 'tarn': 674,\n",
              " 'talk': 675,\n",
              " 'constellations': 676,\n",
              " 'itd': 677,\n",
              " 'stronger': 678,\n",
              " 'consult': 679,\n",
              " 'shatter': 680,\n",
              " 'inward': 681,\n",
              " 'unswept': 682,\n",
              " 'floors': 683,\n",
              " 'reverence': 684,\n",
              " 'rid': 685,\n",
              " 'west': 686,\n",
              " 'getting': 687,\n",
              " 'gold': 688,\n",
              " 'men': 689,\n",
              " 'very': 690,\n",
              " 'air': 691,\n",
              " 'ride': 692,\n",
              " 'nor': 693,\n",
              " 'revels': 694,\n",
              " 'weve': 695,\n",
              " 'fifteen': 696,\n",
              " 'looked': 697,\n",
              " 'heaven': 698,\n",
              " 'starry': 699,\n",
              " 'choir': 700,\n",
              " 'neednt': 701,\n",
              " 'future': 702,\n",
              " 'radiant': 703,\n",
              " 'shine': 704,\n",
              " 'fresh': 705,\n",
              " 'myrtle': 706,\n",
              " 'blade': 707,\n",
              " 'ill': 708,\n",
              " 'entwine': 709,\n",
              " 'pretty': 710,\n",
              " 'things': 711,\n",
              " 'outdoors': 712,\n",
              " 'january': 713,\n",
              " 'thaw': 714,\n",
              " 'eyes': 715,\n",
              " 'heart': 716,\n",
              " 'enshrined': 717,\n",
              " 'invisible': 718,\n",
              " 'built': 719,\n",
              " 'big': 720,\n",
              " 'church': 721,\n",
              " 'organ': 722,\n",
              " 'hours': 723,\n",
              " 'breathing': 724,\n",
              " 'low': 725,\n",
              " 'fist': 726,\n",
              " 'buried': 727,\n",
              " 'bushy': 728,\n",
              " 'hide': 729,\n",
              " 'sadly': 730,\n",
              " 'star': 731,\n",
              " 'mistrust': 732,\n",
              " 'tent': 733,\n",
              " 'pegged': 734,\n",
              " 'planets': 735,\n",
              " 'ones': 736,\n",
              " 'unthoughtlike': 737,\n",
              " 'souls': 738,\n",
              " 'gave': 739,\n",
              " 'return': 740,\n",
              " 'lovelight': 741,\n",
              " 'walked': 742,\n",
              " 'sunday': 743,\n",
              " 'state': 744,\n",
              " 'glory': 745,\n",
              " 'befitting': 746,\n",
              " 'theyll': 747,\n",
              " 'theyve': 748,\n",
              " 'got': 749,\n",
              " 'whole': 750,\n",
              " 'thing': 751,\n",
              " 'hail': 752,\n",
              " 'presence': 753,\n",
              " 'morning': 754,\n",
              " 'theirs': 755,\n",
              " 'interlock': 756,\n",
              " 'safe': 757,\n",
              " 'streams': 758,\n",
              " 'turrets': 759,\n",
              " 'stock': 760,\n",
              " 'petered': 761,\n",
              " 'ridiculous': 762,\n",
              " 'forgot': 763,\n",
              " 'wall': 764,\n",
              " 'burns': 765,\n",
              " 'sunny': 766,\n",
              " 'cheek': 767,\n",
              " 'resurrection': 768,\n",
              " 'deepburied': 769,\n",
              " 'faith': 770,\n",
              " 'dwell': 771,\n",
              " 'farmers': 772,\n",
              " 'twice': 773,\n",
              " 'grief': 774,\n",
              " 'joy': 775,\n",
              " 'likely': 776,\n",
              " 'regard': 777,\n",
              " 'sacred': 778,\n",
              " 'thinks': 779,\n",
              " 'word': 780,\n",
              " 'downstairs': 781,\n",
              " 'stone': 782,\n",
              " 'unprotected': 783,\n",
              " 'glass': 784,\n",
              " 'reply': 785,\n",
              " 'hers': 786,\n",
              " 'intelligence': 787,\n",
              " 'coming': 788,\n",
              " 'ryans': 789,\n",
              " 'hill': 790,\n",
              " 'twas': 791,\n",
              " 'touch': 792,\n",
              " 'knows': 793,\n",
              " 'friends': 794,\n",
              " 'names': 795,\n",
              " 'quite': 796,\n",
              " 'am': 797,\n",
              " 'myself': 798,\n",
              " 'days': 799,\n",
              " 'volcanic': 800,\n",
              " 't': 801,\n",
              " 'symbol': 802,\n",
              " 'token': 803,\n",
              " 'meaning': 804,\n",
              " 'break': 805,\n",
              " 'may': 806,\n",
              " 'job': 807,\n",
              " 'friend': 808,\n",
              " 'farm': 809,\n",
              " 'desperate': 810,\n",
              " 'energy': 811,\n",
              " 'hath': 812,\n",
              " 'beaten': 813,\n",
              " 'choice': 814,\n",
              " 'meet': 815,\n",
              " 'elsewhere': 816,\n",
              " 'stardials': 817,\n",
              " 'pointed': 818,\n",
              " 'morn': 819,\n",
              " 'drawn': 820,\n",
              " 'passport': 821,\n",
              " 'branch': 822,\n",
              " 'setting': 823,\n",
              " 'traps': 824,\n",
              " 'tangle': 825,\n",
              " 'withered': 826,\n",
              " 'weeds': 827,\n",
              " 'shift': 828,\n",
              " 'shelter': 829,\n",
              " 'estelle': 830,\n",
              " 'complain': 831,\n",
              " 'eddy': 832,\n",
              " 'toppling': 833,\n",
              " 'weak': 834,\n",
              " 'care': 835,\n",
              " 'thats': 836,\n",
              " 'sit': 837,\n",
              " 'pairs': 838,\n",
              " 'firkins': 839,\n",
              " 'grafton': 840,\n",
              " 'county': 841,\n",
              " 'stranger': 842,\n",
              " 'cousins': 843,\n",
              " 'family': 844,\n",
              " 'tree': 845,\n",
              " 'journeyed': 846,\n",
              " 'yes': 847,\n",
              " 'coat': 848,\n",
              " 'seated': 849,\n",
              " 'senescent': 850,\n",
              " 'davis': 851,\n",
              " 'bade': 852,\n",
              " 'graciously': 853,\n",
              " 'suddenly': 854,\n",
              " 'jerk': 855,\n",
              " 'twitch': 856,\n",
              " 'root': 857,\n",
              " 'swish': 858,\n",
              " 'others': 859,\n",
              " 'playthings': 860,\n",
              " 'playhouse': 861,\n",
              " 'children': 862,\n",
              " 'fight': 863,\n",
              " 'smother': 864,\n",
              " 'tasted': 865,\n",
              " 'desire': 866,\n",
              " 'rattle': 867,\n",
              " 'lurid': 868,\n",
              " 'which': 869,\n",
              " 'any': 870,\n",
              " 'business': 871,\n",
              " 'knew': 872,\n",
              " 'month': 873,\n",
              " 'october': 874,\n",
              " 'sink': 875,\n",
              " 'wife': 876,\n",
              " 'dead': 877,\n",
              " 'doubted': 878,\n",
              " 'along': 879,\n",
              " 'wilderness': 880,\n",
              " 'pause': 881,\n",
              " 'gardengate': 882,\n",
              " 'raised': 883,\n",
              " 'again—': 884,\n",
              " 'silverysilken': 885,\n",
              " 'veil': 886,\n",
              " 'absence': 887,\n",
              " 'headed': 888,\n",
              " 'for—': 889,\n",
              " 'wish': 890,\n",
              " 'hadnt': 891,\n",
              " 'strong': 892,\n",
              " 'windows': 893,\n",
              " 'banked': 894,\n",
              " 'sawdust': 895,\n",
              " 'nothing': 896,\n",
              " 'listen': 897,\n",
              " 'lean': 898,\n",
              " 'wonderful': 899,\n",
              " 'plan': 900,\n",
              " 'danger': 901,\n",
              " 'loss': 902,\n",
              " 'owe': 903,\n",
              " 'gratitude': 904,\n",
              " 'nausicaa': 905,\n",
              " 'unafraid': 906,\n",
              " 'mourn': 907,\n",
              " 'morrow': 908,\n",
              " 'repeatedly': 909,\n",
              " 'strove': 910,\n",
              " 'ice': 911,\n",
              " 'clothes': 912,\n",
              " 'snow': 913,\n",
              " 'noon': 914,\n",
              " 'bent': 915,\n",
              " 'undergrowth': 916,\n",
              " 'sproutlands': 917,\n",
              " 'flourish': 918,\n",
              " 'axe': 919,\n",
              " 'baby': 920,\n",
              " 'miles': 921,\n",
              " 'mormon': 922,\n",
              " 'roof': 923,\n",
              " 'float': 924,\n",
              " 'stood': 925,\n",
              " 'stopped': 926,\n",
              " 'feet': 927,\n",
              " 'deep': 928,\n",
              " 'died': 929,\n",
              " 'asked': 930,\n",
              " 'anything': 931,\n",
              " 'youd': 932,\n",
              " 'tempt': 933,\n",
              " 'thrilling': 934,\n",
              " 'wentworth': 935,\n",
              " 'alls': 936,\n",
              " 'ought': 937,\n",
              " 'thrown': 938,\n",
              " 'into': 939,\n",
              " 'confusion': 940,\n",
              " 'neighbours': 941,\n",
              " 'blew': 942,\n",
              " 'icy': 943,\n",
              " 'path': 944,\n",
              " 'liquescent': 945,\n",
              " 'gnawing': 946,\n",
              " 'whined': 947,\n",
              " 'lifted': 948,\n",
              " 'rug': 949,\n",
              " 'bred': 950,\n",
              " 'floor': 951,\n",
              " 'lying': 952,\n",
              " 'die': 953,\n",
              " 'arisen': 954,\n",
              " 'tended': 955,\n",
              " 'both': 956,\n",
              " 'virtue': 957,\n",
              " 'humanity': 958,\n",
              " 'lion': 959,\n",
              " 'flowers': 960,\n",
              " 'shut': 961,\n",
              " 'lived': 962,\n",
              " 'threw': 963,\n",
              " 'wetelbowed': 964,\n",
              " 'wetkneed': 965,\n",
              " 'uttered': 966,\n",
              " 'window': 967,\n",
              " 'black': 968,\n",
              " 'hoary': 969,\n",
              " 'trees': 970,\n",
              " 'groans': 971,\n",
              " 'woe': 972,\n",
              " 'expired': 973,\n",
              " 'save': 974,\n",
              " 'less': 975,\n",
              " 'thou': 976,\n",
              " 'lest': 977,\n",
              " 'truant': 978,\n",
              " 'sold': 979,\n",
              " 'tender': 980,\n",
              " 'verse': 981,\n",
              " 'escaped': 982,\n",
              " 'outrage': 983,\n",
              " 'donkeys': 984,\n",
              " 'ears': 985,\n",
              " 'suggest': 986,\n",
              " 'shake': 987,\n",
              " 'wet': 988,\n",
              " 'stampede': 989,\n",
              " 'firsts': 990,\n",
              " 'dread': 991,\n",
              " 'burden': 992,\n",
              " 'makebelieve': 993,\n",
              " 'breaking': 994,\n",
              " 'hands': 995,\n",
              " 'throats': 996,\n",
              " 'thence': 997,\n",
              " 'sprung': 998,\n",
              " 'numerous': 999,\n",
              " ...}"
            ]
          },
          "execution_count": 15,
          "metadata": {},
          "output_type": "execute_result"
        }
      ],
      "source": [
        "# List of words and their respective indices\n",
        "word2idx"
      ]
    },
    {
      "cell_type": "code",
      "execution_count": 16,
      "metadata": {
        "colab": {
          "base_uri": "https://localhost:8080/"
        },
        "id": "I9i77SdIiFpa",
        "outputId": "dcdff2f7-2a30-4b2e-e8fe-2df825f208c0"
      },
      "outputs": [
        {
          "data": {
            "text/plain": [
              "2519"
            ]
          },
          "execution_count": 16,
          "metadata": {},
          "output_type": "execute_result"
        }
      ],
      "source": [
        "len(word2idx)"
      ]
    },
    {
      "cell_type": "markdown",
      "metadata": {
        "id": "2P9ivwZTwWe_"
      },
      "source": [
        "## Converting the data i.e the text files into a listof integers based on the matrix of indices "
      ]
    },
    {
      "cell_type": "code",
      "execution_count": 20,
      "metadata": {
        "id": "oxKKkVJaiK5z"
      },
      "outputs": [],
      "source": [
        "# Convert data into integer format\n",
        "train_text_int = []\n",
        "test_text_int = []\n",
        "\n",
        "for text in train_text:\n",
        "  tokens = text.split()\n",
        "  line_as_int = [word2idx[token] for token in tokens]\n",
        "  train_text_int.append(line_as_int)\n",
        "\n",
        "for text in test_text:\n",
        "    tokens = text.split()\n",
        "    line_as_int = [word2idx.get(token, 0) for token in tokens]\n",
        "    test_text_int.append(line_as_int)"
      ]
    },
    {
      "cell_type": "code",
      "execution_count": 19,
      "metadata": {
        "colab": {
          "base_uri": "https://localhost:8080/"
        },
        "id": "RXXgALj_jB8O",
        "outputId": "95d94423-f48a-4214-a0e2-b39f016b83e4"
      },
      "outputs": [
        {
          "data": {
            "text/plain": [
              "[[33, 355, 235, 33, 356, 357, 17, 235, 15],\n",
              " [358, 33, 359, 3, 360, 361, 362],\n",
              " [28, 363, 364, 331, 17, 364, 365, 366],\n",
              " [],\n",
              " [40, 367, 368, 155, 33, 369, 3, 370]]"
            ]
          },
          "execution_count": 19,
          "metadata": {},
          "output_type": "execute_result"
        }
      ],
      "source": [
        "train_text_int[100:105]"
      ]
    },
    {
      "cell_type": "markdown",
      "metadata": {
        "id": "wxIQwDXWwdTZ"
      },
      "source": [
        "## Creating a Markov model\n",
        "We will create A and pi matrices for the Markov modek\n",
        "* `A`: State transition matrix, in this case transitioning from one word to the other\n",
        "* `pi`: Initial state/ start state, int this case the first word in every sentence "
      ]
    },
    {
      "cell_type": "code",
      "execution_count": 22,
      "metadata": {
        "id": "CElGRRRwjJep"
      },
      "outputs": [],
      "source": [
        "# Initialise A and pi matrices for both classes\n",
        "V = len(word2idx)\n",
        "\n",
        "A0 = np.ones((V,V))\n",
        "pi0 = np.ones(V)\n",
        "\n",
        "\n",
        "A1 = np.ones((V,V))\n",
        "pi1 = np.ones(V)"
      ]
    },
    {
      "cell_type": "code",
      "execution_count": 24,
      "metadata": {
        "id": "gVdjhofijwuH"
      },
      "outputs": [],
      "source": [
        "# Compute counts for A and pi i.e. populating the matrix A and pi fields \n",
        "def compute_counts(text_as_int, A, pi):\n",
        "  for tokens in text_as_int:\n",
        "    last_idx = None\n",
        "    for idx in tokens:\n",
        "      if last_idx is None:\n",
        "        # The first word in the sentence\n",
        "        pi[idx]+= 1\n",
        "        # Traversing sentence from one word to another\n",
        "      else:\n",
        "        A[last_idx, idx]+=1\n",
        "\n",
        "      # Update the last index\n",
        "      last_idx = idx\n",
        "\n",
        "compute_counts([t for t, y in zip(train_text_int, y_train) if y == 0], A0, pi0)\n",
        "compute_counts([t for t, y in zip(train_text_int, y_train) if y == 1], A1, pi1)      \n"
      ]
    },
    {
      "cell_type": "code",
      "execution_count": 26,
      "metadata": {
        "id": "8ESLrbNzj6av"
      },
      "outputs": [],
      "source": [
        "# Normalise A and pi so that they become probability matrices \n",
        "A0 /= A0.sum(axis=1, keepdims=True)\n",
        "pi0/= pi0.sum()\n",
        "\n",
        "A1 /= A1.sum(axis=1, keepdims=True)\n",
        "pi1/= pi1.sum()\n"
      ]
    },
    {
      "cell_type": "code",
      "execution_count": 27,
      "metadata": {
        "id": "VmYIRhepmtYS"
      },
      "outputs": [],
      "source": [
        "# Using logarithmic probabilities\n",
        "logA0 = np.log(A0)\n",
        "logpi0 = np.log(pi0)\n",
        "\n",
        "logA1 = np.log(A1)\n",
        "logpi1 = np.log(pi1)"
      ]
    },
    {
      "cell_type": "code",
      "execution_count": 28,
      "metadata": {
        "colab": {
          "base_uri": "https://localhost:8080/"
        },
        "id": "JZo_dl4knEXV",
        "outputId": "708ffe23-9ea4-4d47-fc94-2a85a85cb9a9"
      },
      "outputs": [
        {
          "data": {
            "text/plain": [
              "(0.3275378575434661, 0.6724621424565339)"
            ]
          },
          "execution_count": 28,
          "metadata": {},
          "output_type": "execute_result"
        }
      ],
      "source": [
        "# Compute priors\n",
        "count0 = sum(y==0 for y in y_train)\n",
        "count1 = sum(y==1 for y in y_train)\n",
        "total = len(y_train)\n",
        "p0 = count0/total\n",
        "p1 = count1/total\n",
        "logp0 = np.log(p0)\n",
        "logp1 = np.log(p1)\n",
        "p0, p1\n"
      ]
    },
    {
      "cell_type": "markdown",
      "metadata": {
        "id": "jz80uo3Vw-K2"
      },
      "source": [
        "## Building our classifier model by using the Markov property and the concept of Bayes Classifier\n",
        "Simpliying Bayes decision rule to derive formula for k*\n",
        "k* = argmax log p(poem|author=k) + log p(author=k)\n"
      ]
    },
    {
      "cell_type": "code",
      "execution_count": 32,
      "metadata": {
        "id": "V41suh3Cnlh5"
      },
      "outputs": [],
      "source": [
        "# Build a classifier\n",
        "class Classifier:\n",
        "  def __init__(self, logAs, logpis, logpriors):\n",
        "    self.logAs = logAs\n",
        "    self.logpis = logpis\n",
        "    self.logpriors = logpriors\n",
        "    self.K = len(logpriors) # number of classes\n",
        "\n",
        "  def _compute_log_likelihood(self, input_, class_):\n",
        "    logA = self.logAs[class_]\n",
        "    logpi = self.logpis[class_]\n",
        "\n",
        "    last_idx = None\n",
        "    logprob = 0\n",
        "    for idx in input_:\n",
        "      if last_idx is None:\n",
        "        # it's the first token\n",
        "        logprob += logpi[idx]\n",
        "      else:\n",
        "        logprob += logA[last_idx, idx]\n",
        "      \n",
        "      # update last_idx\n",
        "      last_idx = idx\n",
        "    \n",
        "    return logprob\n",
        "  \n",
        "  def predict(self, inputs):\n",
        "    predictions = np.zeros(len(inputs))\n",
        "    for i, input_ in enumerate(inputs):\n",
        "      posteriors = [self._compute_log_likelihood(input_, c) + self.logpriors[c] \\\n",
        "             for c in range(self.K)]\n",
        "      pred = np.argmax(posteriors)\n",
        "      predictions[i] = pred\n",
        "    return predictions"
      ]
    },
    {
      "cell_type": "code",
      "execution_count": 33,
      "metadata": {
        "id": "1FiiaCC_orjq"
      },
      "outputs": [],
      "source": [
        "# each array must be in order since classes are assumed to index these lists\n",
        "clf = Classifier([logA0, logA1], [logpi0, logpi1], [logp0, logp1])"
      ]
    },
    {
      "cell_type": "markdown",
      "metadata": {
        "id": "dDP5d3w7x3Fw"
      },
      "source": [
        "## Running the model and getting accuracy, f1_score,confusion matrix and classification report for train and test sets"
      ]
    },
    {
      "cell_type": "code",
      "execution_count": 34,
      "metadata": {
        "colab": {
          "base_uri": "https://localhost:8080/"
        },
        "id": "ZfdX8FM4o6Ws",
        "outputId": "8671bff2-8843-445e-9460-99e2cccf1dbb"
      },
      "outputs": [
        {
          "name": "stdout",
          "output_type": "stream",
          "text": [
            "Train Accuracy:0.968592260235558\n"
          ]
        }
      ],
      "source": [
        "ptrain = clf.predict(train_text_int)\n",
        "print(f\"Train Accuracy:{np.mean(ptrain==y_train)}\")"
      ]
    },
    {
      "cell_type": "code",
      "execution_count": 35,
      "metadata": {
        "colab": {
          "base_uri": "https://localhost:8080/"
        },
        "id": "qULmsFedpGTP",
        "outputId": "7f57c7b8-37fe-4d10-9949-cd6abe4d63ad"
      },
      "outputs": [
        {
          "name": "stdout",
          "output_type": "stream",
          "text": [
            "Test Accuracy:0.7966386554621848\n"
          ]
        }
      ],
      "source": [
        "ptest = clf.predict(test_text_int)\n",
        "print(f\"Test Accuracy:{np.mean(ptest == y_test)}\")"
      ]
    },
    {
      "cell_type": "code",
      "execution_count": 36,
      "metadata": {
        "id": "N-8z3kc_paG3"
      },
      "outputs": [],
      "source": [
        "from sklearn.metrics import confusion_matrix, classification_report, f1_score"
      ]
    },
    {
      "cell_type": "code",
      "execution_count": 39,
      "metadata": {
        "colab": {
          "base_uri": "https://localhost:8080/"
        },
        "id": "yg_1L5impi0u",
        "outputId": "26fec722-655b-4e4c-8262-b89cbe9a49fc"
      },
      "outputs": [
        {
          "data": {
            "text/plain": [
              "array([[ 528,   56],\n",
              "       [   0, 1199]])"
            ]
          },
          "execution_count": 39,
          "metadata": {},
          "output_type": "execute_result"
        }
      ],
      "source": [
        "conf_matrix = confusion_matrix(y_train, ptrain)\n",
        "conf_matrix"
      ]
    },
    {
      "cell_type": "code",
      "execution_count": 40,
      "metadata": {
        "colab": {
          "base_uri": "https://localhost:8080/",
          "height": 243
        },
        "id": "L_weJCUgpoHp",
        "outputId": "93eb9e2f-7111-45c1-95fa-3cb8f1916978"
      },
      "outputs": [
        {
          "data": {
            "image/png": "[encoded data removed]",
            "text/plain": [
              "<Figure size 216x216 with 1 Axes>"
            ]
          },
          "metadata": {},
          "output_type": "display_data"
        }
      ],
      "source": [
        "import seaborn as sns\n",
        "sns.set(font_scale = 1.5)\n",
        "def plot_conf_mat(y_test, y_preds):\n",
        " \n",
        " fig, ax = plt.subplots(figsize=(3, 3))\n",
        " ax = sns.heatmap(confusion_matrix(y_test, y_preds),\n",
        " annot=True, # Annotate the boxes\n",
        " cbar=False)\n",
        " plt.xlabel(\"true label\")\n",
        " plt.ylabel(\"predicted label\")\n",
        " \n",
        "plot_conf_mat(y_train, ptrain)"
      ]
    },
    {
      "cell_type": "code",
      "execution_count": 41,
      "metadata": {
        "colab": {
          "base_uri": "https://localhost:8080/"
        },
        "id": "6JcHLWhgqAqR",
        "outputId": "8a49566b-6e2b-4f71-fb69-615d3f9a4d1a"
      },
      "outputs": [
        {
          "data": {
            "text/plain": [
              "array([[101, 112],\n",
              "       [  9, 373]])"
            ]
          },
          "execution_count": 41,
          "metadata": {},
          "output_type": "execute_result"
        }
      ],
      "source": [
        "conf_matrix = confusion_matrix(y_test, ptest)\n",
        "conf_matrix"
      ]
    },
    {
      "cell_type": "code",
      "execution_count": 42,
      "metadata": {
        "colab": {
          "base_uri": "https://localhost:8080/",
          "height": 243
        },
        "id": "tuwrV3lLqKFn",
        "outputId": "f51d9f5a-2f19-4a84-a0b0-31910a2c9d85"
      },
      "outputs": [
        {
          "data": {
            "image/png": "[encoded data removed]",
            "text/plain": [
              "<Figure size 216x216 with 1 Axes>"
            ]
          },
          "metadata": {},
          "output_type": "display_data"
        }
      ],
      "source": [
        "import seaborn as sns\n",
        "sns.set(font_scale = 1.5)\n",
        "def plot_conf_mat(y_test, y_preds):\n",
        " \n",
        " fig, ax = plt.subplots(figsize=(3, 3))\n",
        " ax = sns.heatmap(confusion_matrix(y_test, y_preds),\n",
        " annot=True, # Annotate the boxes\n",
        " cbar=False)\n",
        " plt.xlabel(\"true label\")\n",
        " plt.ylabel(\"predicted label\")\n",
        " \n",
        "plot_conf_mat(y_test, ptest)"
      ]
    },
    {
      "cell_type": "code",
      "execution_count": 43,
      "metadata": {
        "colab": {
          "base_uri": "https://localhost:8080/"
        },
        "id": "rkyrB57xqP4e",
        "outputId": "6ae3b06f-f196-499a-c468-3acb9d0fafbd"
      },
      "outputs": [
        {
          "data": {
            "text/plain": [
              "0.9771801140994295"
            ]
          },
          "execution_count": 43,
          "metadata": {},
          "output_type": "execute_result"
        }
      ],
      "source": [
        "f1_score(y_train, ptrain)"
      ]
    },
    {
      "cell_type": "code",
      "execution_count": 44,
      "metadata": {
        "colab": {
          "base_uri": "https://localhost:8080/"
        },
        "id": "_ZfpA_zKqTQv",
        "outputId": "e8183663-1ecc-4f9c-a616-fce22f3c5c59"
      },
      "outputs": [
        {
          "data": {
            "text/plain": [
              "0.8604382929642445"
            ]
          },
          "execution_count": 44,
          "metadata": {},
          "output_type": "execute_result"
        }
      ],
      "source": [
        "f1_score(y_test, ptest)"
      ]
    },
    {
      "cell_type": "code",
      "execution_count": 45,
      "metadata": {
        "colab": {
          "base_uri": "https://localhost:8080/"
        },
        "id": "6lYzwMZlyDh3",
        "outputId": "3f4b1036-8c29-4054-9583-f5a69c52e617"
      },
      "outputs": [
        {
          "name": "stdout",
          "output_type": "stream",
          "text": [
            "              precision    recall  f1-score   support\n",
            "\n",
            "           0       1.00      0.90      0.95       584\n",
            "           1       0.96      1.00      0.98      1199\n",
            "\n",
            "    accuracy                           0.97      1783\n",
            "   macro avg       0.98      0.95      0.96      1783\n",
            "weighted avg       0.97      0.97      0.97      1783\n",
            "\n"
          ]
        }
      ],
      "source": [
        "# Obtaining a classification report on training set\n",
        "print(classification_report(y_train, ptrain))"
      ]
    },
    {
      "cell_type": "code",
      "execution_count": 46,
      "metadata": {
        "colab": {
          "base_uri": "https://localhost:8080/"
        },
        "id": "_I4CabWkyJmv",
        "outputId": "c508964d-992d-47ba-c1b5-4450851c3627"
      },
      "outputs": [
        {
          "name": "stdout",
          "output_type": "stream",
          "text": [
            "              precision    recall  f1-score   support\n",
            "\n",
            "           0       0.92      0.47      0.63       213\n",
            "           1       0.77      0.98      0.86       382\n",
            "\n",
            "    accuracy                           0.80       595\n",
            "   macro avg       0.84      0.73      0.74       595\n",
            "weighted avg       0.82      0.80      0.78       595\n",
            "\n"
          ]
        }
      ],
      "source": [
        "# Obtaining classification report on test set \n",
        "print(classification_report(y_test, ptest))"
      ]
    },
    {
      "cell_type": "markdown",
      "metadata": {
        "id": "rA2IR0w6qWwd"
      },
      "source": [
        "*******"
      ]
    }
  ],
  "metadata": {
    "accelerator": "GPU",
    "colab": {
      "collapsed_sections": [],
      "name": "Text-Classifier-Using-markov-model.ipynb",
      "provenance": []
    },
    "kernelspec": {
      "display_name": "Python 3",
      "name": "python3"
    },
    "language_info": {
      "name": "python"
    }
  },
  "nbformat": 4,
  "nbformat_minor": 0
}
